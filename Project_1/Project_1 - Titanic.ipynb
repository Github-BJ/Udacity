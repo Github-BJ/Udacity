{
 "cells": [
  {
   "cell_type": "markdown",
   "metadata": {},
   "source": [
    "## Titanic Data Set Analysis"
   ]
  },
  {
   "cell_type": "markdown",
   "metadata": {},
   "source": [
    "This is project no.1, a analysis of the famous Titanic Data Set. \n",
    "The data set can found here: https://web.stanford.edu/class/archive/cs/cs109/cs109.1166/problem12.html"
   ]
  },
  {
   "cell_type": "code",
   "execution_count": 1,
   "metadata": {},
   "outputs": [],
   "source": [
    "'''Import statements'''\n",
    "\n",
    "import pandas as pd\n",
    "import matplotlib.pyplot as plt\n",
    "from sklearn.model_selection import train_test_split\n",
    "from sklearn.metrics import confusion_matrix\n",
    "from sklearn.linear_model import LogisticRegression\n",
    "from sklearn.ensemble import RandomForestClassifier\n",
    "from sklearn import svm\n",
    "from sklearn.metrics import average_precision_score\n",
    "from sklearn.metrics import recall_score\n",
    "from sklearn.metrics import f1_score"
   ]
  },
  {
   "cell_type": "code",
   "execution_count": 2,
   "metadata": {},
   "outputs": [
    {
     "data": {
      "text/html": [
       "<div>\n",
       "<style scoped>\n",
       "    .dataframe tbody tr th:only-of-type {\n",
       "        vertical-align: middle;\n",
       "    }\n",
       "\n",
       "    .dataframe tbody tr th {\n",
       "        vertical-align: top;\n",
       "    }\n",
       "\n",
       "    .dataframe thead th {\n",
       "        text-align: right;\n",
       "    }\n",
       "</style>\n",
       "<table border=\"1\" class=\"dataframe\">\n",
       "  <thead>\n",
       "    <tr style=\"text-align: right;\">\n",
       "      <th></th>\n",
       "      <th>Survived</th>\n",
       "      <th>Pclass</th>\n",
       "      <th>Name</th>\n",
       "      <th>Sex</th>\n",
       "      <th>Age</th>\n",
       "      <th>Siblings/Spouses Aboard</th>\n",
       "      <th>Parents/Children Aboard</th>\n",
       "      <th>Fare</th>\n",
       "    </tr>\n",
       "  </thead>\n",
       "  <tbody>\n",
       "    <tr>\n",
       "      <td>0</td>\n",
       "      <td>0</td>\n",
       "      <td>3</td>\n",
       "      <td>Mr. Owen Harris Braund</td>\n",
       "      <td>male</td>\n",
       "      <td>22.0</td>\n",
       "      <td>1</td>\n",
       "      <td>0</td>\n",
       "      <td>7.2500</td>\n",
       "    </tr>\n",
       "    <tr>\n",
       "      <td>1</td>\n",
       "      <td>1</td>\n",
       "      <td>1</td>\n",
       "      <td>Mrs. John Bradley (Florence Briggs Thayer) Cum...</td>\n",
       "      <td>female</td>\n",
       "      <td>38.0</td>\n",
       "      <td>1</td>\n",
       "      <td>0</td>\n",
       "      <td>71.2833</td>\n",
       "    </tr>\n",
       "    <tr>\n",
       "      <td>2</td>\n",
       "      <td>1</td>\n",
       "      <td>3</td>\n",
       "      <td>Miss. Laina Heikkinen</td>\n",
       "      <td>female</td>\n",
       "      <td>26.0</td>\n",
       "      <td>0</td>\n",
       "      <td>0</td>\n",
       "      <td>7.9250</td>\n",
       "    </tr>\n",
       "    <tr>\n",
       "      <td>3</td>\n",
       "      <td>1</td>\n",
       "      <td>1</td>\n",
       "      <td>Mrs. Jacques Heath (Lily May Peel) Futrelle</td>\n",
       "      <td>female</td>\n",
       "      <td>35.0</td>\n",
       "      <td>1</td>\n",
       "      <td>0</td>\n",
       "      <td>53.1000</td>\n",
       "    </tr>\n",
       "    <tr>\n",
       "      <td>4</td>\n",
       "      <td>0</td>\n",
       "      <td>3</td>\n",
       "      <td>Mr. William Henry Allen</td>\n",
       "      <td>male</td>\n",
       "      <td>35.0</td>\n",
       "      <td>0</td>\n",
       "      <td>0</td>\n",
       "      <td>8.0500</td>\n",
       "    </tr>\n",
       "    <tr>\n",
       "      <td>...</td>\n",
       "      <td>...</td>\n",
       "      <td>...</td>\n",
       "      <td>...</td>\n",
       "      <td>...</td>\n",
       "      <td>...</td>\n",
       "      <td>...</td>\n",
       "      <td>...</td>\n",
       "      <td>...</td>\n",
       "    </tr>\n",
       "    <tr>\n",
       "      <td>95</td>\n",
       "      <td>0</td>\n",
       "      <td>1</td>\n",
       "      <td>Mr. George B Goldschmidt</td>\n",
       "      <td>male</td>\n",
       "      <td>71.0</td>\n",
       "      <td>0</td>\n",
       "      <td>0</td>\n",
       "      <td>34.6542</td>\n",
       "    </tr>\n",
       "    <tr>\n",
       "      <td>96</td>\n",
       "      <td>1</td>\n",
       "      <td>1</td>\n",
       "      <td>Mr. William Bertram Greenfield</td>\n",
       "      <td>male</td>\n",
       "      <td>23.0</td>\n",
       "      <td>0</td>\n",
       "      <td>1</td>\n",
       "      <td>63.3583</td>\n",
       "    </tr>\n",
       "    <tr>\n",
       "      <td>97</td>\n",
       "      <td>1</td>\n",
       "      <td>2</td>\n",
       "      <td>Mrs. John T (Ada Julia Bone) Doling</td>\n",
       "      <td>female</td>\n",
       "      <td>34.0</td>\n",
       "      <td>0</td>\n",
       "      <td>1</td>\n",
       "      <td>23.0000</td>\n",
       "    </tr>\n",
       "    <tr>\n",
       "      <td>98</td>\n",
       "      <td>0</td>\n",
       "      <td>2</td>\n",
       "      <td>Mr. Sinai Kantor</td>\n",
       "      <td>male</td>\n",
       "      <td>34.0</td>\n",
       "      <td>1</td>\n",
       "      <td>0</td>\n",
       "      <td>26.0000</td>\n",
       "    </tr>\n",
       "    <tr>\n",
       "      <td>99</td>\n",
       "      <td>0</td>\n",
       "      <td>3</td>\n",
       "      <td>Miss. Matilda Petranec</td>\n",
       "      <td>female</td>\n",
       "      <td>28.0</td>\n",
       "      <td>0</td>\n",
       "      <td>0</td>\n",
       "      <td>7.8958</td>\n",
       "    </tr>\n",
       "  </tbody>\n",
       "</table>\n",
       "<p>100 rows × 8 columns</p>\n",
       "</div>"
      ],
      "text/plain": [
       "    Survived  Pclass                                               Name  \\\n",
       "0          0       3                             Mr. Owen Harris Braund   \n",
       "1          1       1  Mrs. John Bradley (Florence Briggs Thayer) Cum...   \n",
       "2          1       3                              Miss. Laina Heikkinen   \n",
       "3          1       1        Mrs. Jacques Heath (Lily May Peel) Futrelle   \n",
       "4          0       3                            Mr. William Henry Allen   \n",
       "..       ...     ...                                                ...   \n",
       "95         0       1                           Mr. George B Goldschmidt   \n",
       "96         1       1                     Mr. William Bertram Greenfield   \n",
       "97         1       2                Mrs. John T (Ada Julia Bone) Doling   \n",
       "98         0       2                                   Mr. Sinai Kantor   \n",
       "99         0       3                             Miss. Matilda Petranec   \n",
       "\n",
       "       Sex   Age  Siblings/Spouses Aboard  Parents/Children Aboard     Fare  \n",
       "0     male  22.0                        1                        0   7.2500  \n",
       "1   female  38.0                        1                        0  71.2833  \n",
       "2   female  26.0                        0                        0   7.9250  \n",
       "3   female  35.0                        1                        0  53.1000  \n",
       "4     male  35.0                        0                        0   8.0500  \n",
       "..     ...   ...                      ...                      ...      ...  \n",
       "95    male  71.0                        0                        0  34.6542  \n",
       "96    male  23.0                        0                        1  63.3583  \n",
       "97  female  34.0                        0                        1  23.0000  \n",
       "98    male  34.0                        1                        0  26.0000  \n",
       "99  female  28.0                        0                        0   7.8958  \n",
       "\n",
       "[100 rows x 8 columns]"
      ]
     },
     "execution_count": 2,
     "metadata": {},
     "output_type": "execute_result"
    }
   ],
   "source": [
    "'''Data Load'''\n",
    "df = pd.read_csv('./titanic.csv')\n",
    "df.head(100)"
   ]
  },
  {
   "cell_type": "code",
   "execution_count": 3,
   "metadata": {},
   "outputs": [
    {
     "data": {
      "text/plain": [
       "Index(['Survived', 'Pclass', 'Name', 'Sex', 'Age', 'Siblings/Spouses Aboard',\n",
       "       'Parents/Children Aboard', 'Fare'],\n",
       "      dtype='object')"
      ]
     },
     "execution_count": 3,
     "metadata": {},
     "output_type": "execute_result"
    }
   ],
   "source": [
    "df.columns"
   ]
  },
  {
   "cell_type": "markdown",
   "metadata": {},
   "source": [
    "Shape of the dataset"
   ]
  },
  {
   "cell_type": "code",
   "execution_count": 4,
   "metadata": {},
   "outputs": [
    {
     "data": {
      "text/plain": [
       "(887, 8)"
      ]
     },
     "execution_count": 4,
     "metadata": {},
     "output_type": "execute_result"
    }
   ],
   "source": [
    "df.shape"
   ]
  },
  {
   "cell_type": "markdown",
   "metadata": {},
   "source": [
    "Check for null values"
   ]
  },
  {
   "cell_type": "code",
   "execution_count": 5,
   "metadata": {},
   "outputs": [
    {
     "data": {
      "text/plain": [
       "Survived                   0\n",
       "Pclass                     0\n",
       "Name                       0\n",
       "Sex                        0\n",
       "Age                        0\n",
       "Siblings/Spouses Aboard    0\n",
       "Parents/Children Aboard    0\n",
       "Fare                       0\n",
       "dtype: int64"
      ]
     },
     "execution_count": 5,
     "metadata": {},
     "output_type": "execute_result"
    }
   ],
   "source": [
    "df.isnull().sum()"
   ]
  },
  {
   "cell_type": "markdown",
   "metadata": {},
   "source": [
    "## Plots of the data"
   ]
  },
  {
   "cell_type": "markdown",
   "metadata": {},
   "source": [
    "Class"
   ]
  },
  {
   "cell_type": "code",
   "execution_count": 6,
   "metadata": {},
   "outputs": [
    {
     "data": {
      "image/png": "[encoded data removed]",
      "text/plain": [
       "<Figure size 432x288 with 1 Axes>"
      ]
     },
     "metadata": {
      "needs_background": "light"
     },
     "output_type": "display_data"
    }
   ],
   "source": [
    "\n",
    "df_class = df.Pclass.value_counts()\n",
    "(df_class).plot(kind=\"bar\");\n",
    "plt.title(\"Pclass\");"
   ]
  },
  {
   "cell_type": "markdown",
   "metadata": {},
   "source": [
    "Gender"
   ]
  },
  {
   "cell_type": "code",
   "execution_count": 7,
   "metadata": {},
   "outputs": [
    {
     "data": {
      "image/png": "[encoded data removed]",
      "text/plain": [
       "<Figure size 432x288 with 1 Axes>"
      ]
     },
     "metadata": {
      "needs_background": "light"
     },
     "output_type": "display_data"
    }
   ],
   "source": [
    "df_gender = df.Sex.value_counts()\n",
    "(df_gender).plot(kind=\"bar\");\n",
    "plt.title(\"Gender\");"
   ]
  },
  {
   "cell_type": "markdown",
   "metadata": {},
   "source": [
    "Age"
   ]
  },
  {
   "cell_type": "code",
   "execution_count": 8,
   "metadata": {
    "scrolled": false
   },
   "outputs": [
    {
     "data": {
      "image/png": "[encoded data removed]",
      "text/plain": [
       "<Figure size 432x288 with 1 Axes>"
      ]
     },
     "metadata": {
      "needs_background": "light"
     },
     "output_type": "display_data"
    }
   ],
   "source": [
    "df_age = df.Age\n",
    "\n",
    "df_age.plot.hist();\n",
    "plt.title(\"Age\");"
   ]
  },
  {
   "cell_type": "markdown",
   "metadata": {},
   "source": [
    "Siblings/Spouses Aboard"
   ]
  },
  {
   "cell_type": "code",
   "execution_count": 9,
   "metadata": {
    "scrolled": true
   },
   "outputs": [
    {
     "data": {
      "image/png": "[encoded data removed]",
      "text/plain": [
       "<Figure size 432x288 with 1 Axes>"
      ]
     },
     "metadata": {
      "needs_background": "light"
     },
     "output_type": "display_data"
    }
   ],
   "source": [
    "df_sib = df[\"Siblings/Spouses Aboard\"].value_counts()\n",
    "(df_sib).plot(kind=\"bar\");\n",
    "plt.title(\"Siblings/Spouses Aboard\");"
   ]
  },
  {
   "cell_type": "markdown",
   "metadata": {},
   "source": [
    "Parents/Children Aboard"
   ]
  },
  {
   "cell_type": "code",
   "execution_count": 10,
   "metadata": {},
   "outputs": [
    {
     "data": {
      "image/png": "[encoded data removed]",
      "text/plain": [
       "<Figure size 432x288 with 1 Axes>"
      ]
     },
     "metadata": {
      "needs_background": "light"
     },
     "output_type": "display_data"
    }
   ],
   "source": [
    "df_par = df[\"Parents/Children Aboard\"].value_counts()\n",
    "(df_par).plot(kind=\"bar\");\n",
    "plt.title(\"Parents/Children Aboard\");"
   ]
  },
  {
   "cell_type": "markdown",
   "metadata": {},
   "source": [
    "Fare"
   ]
  },
  {
   "cell_type": "code",
   "execution_count": 11,
   "metadata": {},
   "outputs": [
    {
     "data": {
      "image/png": "[encoded data removed]",
      "text/plain": [
       "<Figure size 432x288 with 1 Axes>"
      ]
     },
     "metadata": {
      "needs_background": "light"
     },
     "output_type": "display_data"
    }
   ],
   "source": [
    "df_fare = df.Fare\n",
    "\n",
    "df_fare.plot.hist();\n",
    "plt.title(\"Fare\");"
   ]
  },
  {
   "cell_type": "markdown",
   "metadata": {},
   "source": [
    "Survived"
   ]
  },
  {
   "cell_type": "code",
   "execution_count": 12,
   "metadata": {},
   "outputs": [
    {
     "data": {
      "image/png": "[encoded data removed]",
      "text/plain": [
       "<Figure size 432x288 with 1 Axes>"
      ]
     },
     "metadata": {
      "needs_background": "light"
     },
     "output_type": "display_data"
    }
   ],
   "source": [
    "df_sur = df[\"Survived\"].value_counts()\n",
    "(df_sur).plot(kind=\"bar\");\n",
    "plt.title(\"Survived\");"
   ]
  },
  {
   "cell_type": "code",
   "execution_count": 13,
   "metadata": {},
   "outputs": [],
   "source": [
    "df_names_list = df.Name.str.split(\" \", n = -1, expand = True)\n",
    "df[\"Salutation\"] = df_names_list[0]"
   ]
  },
  {
   "cell_type": "code",
   "execution_count": 14,
   "metadata": {},
   "outputs": [
    {
     "data": {
      "text/html": [
       "<div>\n",
       "<style scoped>\n",
       "    .dataframe tbody tr th:only-of-type {\n",
       "        vertical-align: middle;\n",
       "    }\n",
       "\n",
       "    .dataframe tbody tr th {\n",
       "        vertical-align: top;\n",
       "    }\n",
       "\n",
       "    .dataframe thead th {\n",
       "        text-align: right;\n",
       "    }\n",
       "</style>\n",
       "<table border=\"1\" class=\"dataframe\">\n",
       "  <thead>\n",
       "    <tr style=\"text-align: right;\">\n",
       "      <th></th>\n",
       "      <th>Survived</th>\n",
       "      <th>Pclass</th>\n",
       "      <th>Name</th>\n",
       "      <th>Sex</th>\n",
       "      <th>Age</th>\n",
       "      <th>Siblings/Spouses Aboard</th>\n",
       "      <th>Parents/Children Aboard</th>\n",
       "      <th>Fare</th>\n",
       "      <th>Salutation</th>\n",
       "    </tr>\n",
       "  </thead>\n",
       "  <tbody>\n",
       "    <tr>\n",
       "      <td>0</td>\n",
       "      <td>0</td>\n",
       "      <td>3</td>\n",
       "      <td>Mr. Owen Harris Braund</td>\n",
       "      <td>male</td>\n",
       "      <td>22.0</td>\n",
       "      <td>1</td>\n",
       "      <td>0</td>\n",
       "      <td>7.2500</td>\n",
       "      <td>Mr.</td>\n",
       "    </tr>\n",
       "    <tr>\n",
       "      <td>1</td>\n",
       "      <td>1</td>\n",
       "      <td>1</td>\n",
       "      <td>Mrs. John Bradley (Florence Briggs Thayer) Cum...</td>\n",
       "      <td>female</td>\n",
       "      <td>38.0</td>\n",
       "      <td>1</td>\n",
       "      <td>0</td>\n",
       "      <td>71.2833</td>\n",
       "      <td>Mrs.</td>\n",
       "    </tr>\n",
       "    <tr>\n",
       "      <td>2</td>\n",
       "      <td>1</td>\n",
       "      <td>3</td>\n",
       "      <td>Miss. Laina Heikkinen</td>\n",
       "      <td>female</td>\n",
       "      <td>26.0</td>\n",
       "      <td>0</td>\n",
       "      <td>0</td>\n",
       "      <td>7.9250</td>\n",
       "      <td>Miss.</td>\n",
       "    </tr>\n",
       "    <tr>\n",
       "      <td>3</td>\n",
       "      <td>1</td>\n",
       "      <td>1</td>\n",
       "      <td>Mrs. Jacques Heath (Lily May Peel) Futrelle</td>\n",
       "      <td>female</td>\n",
       "      <td>35.0</td>\n",
       "      <td>1</td>\n",
       "      <td>0</td>\n",
       "      <td>53.1000</td>\n",
       "      <td>Mrs.</td>\n",
       "    </tr>\n",
       "    <tr>\n",
       "      <td>4</td>\n",
       "      <td>0</td>\n",
       "      <td>3</td>\n",
       "      <td>Mr. William Henry Allen</td>\n",
       "      <td>male</td>\n",
       "      <td>35.0</td>\n",
       "      <td>0</td>\n",
       "      <td>0</td>\n",
       "      <td>8.0500</td>\n",
       "      <td>Mr.</td>\n",
       "    </tr>\n",
       "    <tr>\n",
       "      <td>...</td>\n",
       "      <td>...</td>\n",
       "      <td>...</td>\n",
       "      <td>...</td>\n",
       "      <td>...</td>\n",
       "      <td>...</td>\n",
       "      <td>...</td>\n",
       "      <td>...</td>\n",
       "      <td>...</td>\n",
       "      <td>...</td>\n",
       "    </tr>\n",
       "    <tr>\n",
       "      <td>95</td>\n",
       "      <td>0</td>\n",
       "      <td>1</td>\n",
       "      <td>Mr. George B Goldschmidt</td>\n",
       "      <td>male</td>\n",
       "      <td>71.0</td>\n",
       "      <td>0</td>\n",
       "      <td>0</td>\n",
       "      <td>34.6542</td>\n",
       "      <td>Mr.</td>\n",
       "    </tr>\n",
       "    <tr>\n",
       "      <td>96</td>\n",
       "      <td>1</td>\n",
       "      <td>1</td>\n",
       "      <td>Mr. William Bertram Greenfield</td>\n",
       "      <td>male</td>\n",
       "      <td>23.0</td>\n",
       "      <td>0</td>\n",
       "      <td>1</td>\n",
       "      <td>63.3583</td>\n",
       "      <td>Mr.</td>\n",
       "    </tr>\n",
       "    <tr>\n",
       "      <td>97</td>\n",
       "      <td>1</td>\n",
       "      <td>2</td>\n",
       "      <td>Mrs. John T (Ada Julia Bone) Doling</td>\n",
       "      <td>female</td>\n",
       "      <td>34.0</td>\n",
       "      <td>0</td>\n",
       "      <td>1</td>\n",
       "      <td>23.0000</td>\n",
       "      <td>Mrs.</td>\n",
       "    </tr>\n",
       "    <tr>\n",
       "      <td>98</td>\n",
       "      <td>0</td>\n",
       "      <td>2</td>\n",
       "      <td>Mr. Sinai Kantor</td>\n",
       "      <td>male</td>\n",
       "      <td>34.0</td>\n",
       "      <td>1</td>\n",
       "      <td>0</td>\n",
       "      <td>26.0000</td>\n",
       "      <td>Mr.</td>\n",
       "    </tr>\n",
       "    <tr>\n",
       "      <td>99</td>\n",
       "      <td>0</td>\n",
       "      <td>3</td>\n",
       "      <td>Miss. Matilda Petranec</td>\n",
       "      <td>female</td>\n",
       "      <td>28.0</td>\n",
       "      <td>0</td>\n",
       "      <td>0</td>\n",
       "      <td>7.8958</td>\n",
       "      <td>Miss.</td>\n",
       "    </tr>\n",
       "  </tbody>\n",
       "</table>\n",
       "<p>100 rows × 9 columns</p>\n",
       "</div>"
      ],
      "text/plain": [
       "    Survived  Pclass                                               Name  \\\n",
       "0          0       3                             Mr. Owen Harris Braund   \n",
       "1          1       1  Mrs. John Bradley (Florence Briggs Thayer) Cum...   \n",
       "2          1       3                              Miss. Laina Heikkinen   \n",
       "3          1       1        Mrs. Jacques Heath (Lily May Peel) Futrelle   \n",
       "4          0       3                            Mr. William Henry Allen   \n",
       "..       ...     ...                                                ...   \n",
       "95         0       1                           Mr. George B Goldschmidt   \n",
       "96         1       1                     Mr. William Bertram Greenfield   \n",
       "97         1       2                Mrs. John T (Ada Julia Bone) Doling   \n",
       "98         0       2                                   Mr. Sinai Kantor   \n",
       "99         0       3                             Miss. Matilda Petranec   \n",
       "\n",
       "       Sex   Age  Siblings/Spouses Aboard  Parents/Children Aboard     Fare  \\\n",
       "0     male  22.0                        1                        0   7.2500   \n",
       "1   female  38.0                        1                        0  71.2833   \n",
       "2   female  26.0                        0                        0   7.9250   \n",
       "3   female  35.0                        1                        0  53.1000   \n",
       "4     male  35.0                        0                        0   8.0500   \n",
       "..     ...   ...                      ...                      ...      ...   \n",
       "95    male  71.0                        0                        0  34.6542   \n",
       "96    male  23.0                        0                        1  63.3583   \n",
       "97  female  34.0                        0                        1  23.0000   \n",
       "98    male  34.0                        1                        0  26.0000   \n",
       "99  female  28.0                        0                        0   7.8958   \n",
       "\n",
       "   Salutation  \n",
       "0         Mr.  \n",
       "1        Mrs.  \n",
       "2       Miss.  \n",
       "3        Mrs.  \n",
       "4         Mr.  \n",
       "..        ...  \n",
       "95        Mr.  \n",
       "96        Mr.  \n",
       "97       Mrs.  \n",
       "98        Mr.  \n",
       "99      Miss.  \n",
       "\n",
       "[100 rows x 9 columns]"
      ]
     },
     "execution_count": 14,
     "metadata": {},
     "output_type": "execute_result"
    }
   ],
   "source": [
    "df.head(100)"
   ]
  },
  {
   "cell_type": "code",
   "execution_count": 15,
   "metadata": {},
   "outputs": [
    {
     "data": {
      "image/png": "[encoded data removed]",
      "text/plain": [
       "<Figure size 432x288 with 1 Axes>"
      ]
     },
     "metadata": {
      "needs_background": "light"
     },
     "output_type": "display_data"
    }
   ],
   "source": [
    "df_sur = df[\"Salutation\"].value_counts()\n",
    "(df_sur).plot(kind=\"bar\");\n",
    "plt.title(\"Salutation\");"
   ]
  },
  {
   "cell_type": "code",
   "execution_count": 16,
   "metadata": {},
   "outputs": [
    {
     "name": "stdout",
     "output_type": "stream",
     "text": [
      "Mr.          513\n",
      "Miss.        182\n",
      "Mrs.         125\n",
      "Master.       40\n",
      "Dr.            7\n",
      "Rev.           6\n",
      "Mlle.          2\n",
      "Col.           2\n",
      "Major.         2\n",
      "Mme.           1\n",
      "Jonkheer.      1\n",
      "Sir.           1\n",
      "Lady.          1\n",
      "Capt.          1\n",
      "Ms.            1\n",
      "Don.           1\n",
      "the            1\n",
      "Name: Salutation, dtype: int64\n"
     ]
    }
   ],
   "source": [
    "print(df_sur)"
   ]
  },
  {
   "cell_type": "markdown",
   "metadata": {},
   "source": [
    "Cleaning Saluation"
   ]
  },
  {
   "cell_type": "code",
   "execution_count": 17,
   "metadata": {},
   "outputs": [],
   "source": [
    "df['Salutation'] = df['Salutation'].replace(['Capt.','Mme.','Lady.','Sir.','Jonkheer.','Don.', 'the', 'Mlle.', 'Major.', 'Col.' ], 'Others')\n",
    "df['Salutation'] = df['Salutation'].replace('Ms.', 'Miss.')"
   ]
  },
  {
   "cell_type": "code",
   "execution_count": 18,
   "metadata": {},
   "outputs": [
    {
     "name": "stdout",
     "output_type": "stream",
     "text": [
      "Mr.        513\n",
      "Miss.      183\n",
      "Mrs.       125\n",
      "Master.     40\n",
      "Others      13\n",
      "Dr.          7\n",
      "Rev.         6\n",
      "Name: Salutation, dtype: int64\n"
     ]
    }
   ],
   "source": [
    "df_sur = df[\"Salutation\"].value_counts()\n",
    "print(df_sur)"
   ]
  },
  {
   "cell_type": "markdown",
   "metadata": {},
   "source": [
    "## Analysis of Survivers"
   ]
  },
  {
   "cell_type": "code",
   "execution_count": 19,
   "metadata": {},
   "outputs": [
    {
     "data": {
      "text/plain": [
       "Siblings/Spouses Aboard\n",
       "5    0.000000\n",
       "8    0.000000\n",
       "4    0.166667\n",
       "3    0.250000\n",
       "0    0.347682\n",
       "2    0.464286\n",
       "1    0.535885\n",
       "Name: Survived, dtype: float64"
      ]
     },
     "execution_count": 19,
     "metadata": {},
     "output_type": "execute_result"
    }
   ],
   "source": [
    "df.groupby(['Siblings/Spouses Aboard']).mean()['Survived'].sort_values()"
   ]
  },
  {
   "cell_type": "code",
   "execution_count": 20,
   "metadata": {},
   "outputs": [
    {
     "data": {
      "text/plain": [
       "Pclass\n",
       "3    0.244353\n",
       "2    0.472826\n",
       "1    0.629630\n",
       "Name: Survived, dtype: float64"
      ]
     },
     "execution_count": 20,
     "metadata": {},
     "output_type": "execute_result"
    }
   ],
   "source": [
    "df.groupby(['Pclass']).mean()['Survived'].sort_values()"
   ]
  },
  {
   "cell_type": "code",
   "execution_count": 21,
   "metadata": {},
   "outputs": [
    {
     "data": {
      "text/plain": [
       "Parents/Children Aboard\n",
       "4    0.000000\n",
       "6    0.000000\n",
       "5    0.200000\n",
       "0    0.345697\n",
       "2    0.500000\n",
       "1    0.550847\n",
       "3    0.600000\n",
       "Name: Survived, dtype: float64"
      ]
     },
     "execution_count": 21,
     "metadata": {},
     "output_type": "execute_result"
    }
   ],
   "source": [
    "df.groupby(['Parents/Children Aboard']).mean()['Survived'].sort_values()"
   ]
  },
  {
   "cell_type": "code",
   "execution_count": 22,
   "metadata": {},
   "outputs": [
    {
     "data": {
      "text/plain": [
       "Sex\n",
       "male      0.190227\n",
       "female    0.742038\n",
       "Name: Survived, dtype: float64"
      ]
     },
     "execution_count": 22,
     "metadata": {},
     "output_type": "execute_result"
    }
   ],
   "source": [
    "df.groupby(['Sex']).mean()['Survived'].sort_values()"
   ]
  },
  {
   "cell_type": "code",
   "execution_count": 23,
   "metadata": {},
   "outputs": [
    {
     "data": {
      "text/plain": [
       "Salutation\n",
       "Rev.       0.000000\n",
       "Mr.        0.157895\n",
       "Dr.        0.428571\n",
       "Master.    0.575000\n",
       "Others     0.615385\n",
       "Miss.      0.699454\n",
       "Mrs.       0.792000\n",
       "Name: Survived, dtype: float64"
      ]
     },
     "execution_count": 23,
     "metadata": {},
     "output_type": "execute_result"
    }
   ],
   "source": [
    "df.groupby(['Salutation']).mean()['Survived'].sort_values()"
   ]
  },
  {
   "cell_type": "code",
   "execution_count": 24,
   "metadata": {},
   "outputs": [
    {
     "data": {
      "text/plain": [
       "Fare\n",
       "8.7125      0.0\n",
       "32.3208     0.0\n",
       "11.5000     0.0\n",
       "33.5000     0.0\n",
       "34.0208     0.0\n",
       "           ... \n",
       "32.5000     1.0\n",
       "12.0000     1.0\n",
       "12.2875     1.0\n",
       "8.1125      1.0\n",
       "512.3292    1.0\n",
       "Name: Survived, Length: 248, dtype: float64"
      ]
     },
     "execution_count": 24,
     "metadata": {},
     "output_type": "execute_result"
    }
   ],
   "source": [
    "df.groupby(['Fare']).mean()['Survived'].sort_values()"
   ]
  },
  {
   "cell_type": "code",
   "execution_count": 25,
   "metadata": {},
   "outputs": [
    {
     "name": "stdout",
     "output_type": "stream",
     "text": [
      "min Age:  0.0\n",
      "max Age:  512.3292\n",
      "avg Age:  32.30542018038328\n"
     ]
    }
   ],
   "source": [
    "print(\"min Age: \", min(df.Fare))\n",
    "print (\"max Age: \", max(df.Fare))\n",
    "print (\"avg Age: \", df.Fare.mean())"
   ]
  },
  {
   "cell_type": "code",
   "execution_count": 26,
   "metadata": {},
   "outputs": [],
   "source": [
    "df.loc[(df.Fare < 25),  'FareGroup'] = '0 - 25'\n",
    "df.loc[(df.Age < 50) & (df.Age >= 26),  'FareGroup'] = '26 - 50'\n",
    "df.loc[(df.Age < 75) & (df.Age >= 51),  'FareGroup'] = '51 - 75'\n",
    "df.loc[(df.Age < 100) & (df.Age >= 76),  'FareGroup'] = '76 - 100'\n",
    "df.loc[(df.Age < 125) & (df.Age >= 101),  'FareGroup'] = '101 - 125'\n",
    "df.loc[(df.Age < 150) & (df.Age >= 126),  'FareGroup'] = '126 - 150'\n",
    "df.loc[(df.Age < 175) & (df.Age >= 151),  'FareGroup'] = '151 - 175'\n",
    "df.loc[(df.Age >= 176),  'FareGroup'] = '> 176'"
   ]
  },
  {
   "cell_type": "code",
   "execution_count": 27,
   "metadata": {},
   "outputs": [
    {
     "data": {
      "text/plain": [
       "FareGroup\n",
       "51 - 75     0.295775\n",
       "0 - 25      0.329630\n",
       "26 - 50     0.398585\n",
       "76 - 100    1.000000\n",
       "Name: Survived, dtype: float64"
      ]
     },
     "execution_count": 27,
     "metadata": {},
     "output_type": "execute_result"
    }
   ],
   "source": [
    "df.groupby(['FareGroup']).mean()['Survived'].sort_values()"
   ]
  },
  {
   "cell_type": "code",
   "execution_count": 28,
   "metadata": {},
   "outputs": [
    {
     "data": {
      "text/plain": [
       "Age\n",
       "64.00    0.0\n",
       "24.50    0.0\n",
       "28.50    0.0\n",
       "23.50    0.0\n",
       "30.50    0.0\n",
       "        ... \n",
       "0.83     1.0\n",
       "0.75     1.0\n",
       "0.67     1.0\n",
       "63.00    1.0\n",
       "80.00    1.0\n",
       "Name: Survived, Length: 89, dtype: float64"
      ]
     },
     "execution_count": 28,
     "metadata": {},
     "output_type": "execute_result"
    }
   ],
   "source": [
    "df.groupby(['Age']).mean()['Survived'].sort_values()"
   ]
  },
  {
   "cell_type": "code",
   "execution_count": 29,
   "metadata": {},
   "outputs": [
    {
     "name": "stdout",
     "output_type": "stream",
     "text": [
      "min Age:  0.42\n",
      "max Age:  80.0\n"
     ]
    }
   ],
   "source": [
    "print(\"min Age: \", min(df.Age))\n",
    "print (\"max Age: \", max(df.Age))"
   ]
  },
  {
   "cell_type": "code",
   "execution_count": 30,
   "metadata": {},
   "outputs": [],
   "source": [
    "df.loc[(df.Age < 11),  'AgeGroup'] = '0 - 10'\n",
    "df.loc[(df.Age < 21) & (df.Age >= 11),  'AgeGroup'] = '11 - 20'\n",
    "df.loc[(df.Age < 31) & (df.Age >= 21),  'AgeGroup'] = '21 - 30'\n",
    "df.loc[(df.Age < 41) & (df.Age >= 31),  'AgeGroup'] = '31 - 40'\n",
    "df.loc[(df.Age < 51) & (df.Age >= 41),  'AgeGroup'] = '41 - 50'\n",
    "df.loc[(df.Age < 61) & (df.Age >= 51),  'AgeGroup'] = '51 - 60'\n",
    "df.loc[(df.Age < 71) & (df.Age >= 61),  'AgeGroup'] = '61 - 70'\n",
    "df.loc[(df.Age < 81) & (df.Age >= 71),  'AgeGroup'] = '71 - 80'"
   ]
  },
  {
   "cell_type": "code",
   "execution_count": 31,
   "metadata": {},
   "outputs": [
    {
     "data": {
      "text/plain": [
       "AgeGroup\n",
       "61 - 70    0.181818\n",
       "71 - 80    0.250000\n",
       "21 - 30    0.342105\n",
       "11 - 20    0.346667\n",
       "51 - 60    0.369565\n",
       "41 - 50    0.413462\n",
       "31 - 40    0.434783\n",
       "0 - 10     0.561644\n",
       "Name: Survived, dtype: float64"
      ]
     },
     "execution_count": 31,
     "metadata": {},
     "output_type": "execute_result"
    }
   ],
   "source": [
    "df.groupby(['AgeGroup']).mean()['Survived'].sort_values()"
   ]
  },
  {
   "cell_type": "code",
   "execution_count": null,
   "metadata": {},
   "outputs": [],
   "source": []
  },
  {
   "cell_type": "markdown",
   "metadata": {},
   "source": [
    "Create Dummy Variables"
   ]
  },
  {
   "cell_type": "code",
   "execution_count": 32,
   "metadata": {},
   "outputs": [],
   "source": [
    "#Pull a list of the column names of the categorical variables\n",
    "#Function is take from course Nanodegree Data Science from Udacity\n",
    "\n",
    "\n",
    "def create_dummy_df(df, cat_cols, dummy_na):\n",
    "    '''\n",
    "    INPUT:\n",
    "    df - pandas dataframe with categorical variables you want to dummy\n",
    "    cat_cols - list of strings that are associated with names of the categorical columns\n",
    "    dummy_na - Bool holding whether you want to dummy NA vals of categorical columns or not\n",
    "    \n",
    "    OUTPUT:\n",
    "    df - a new dataframe that has the following characteristics:\n",
    "            1. contains all columns that were not specified as categorical\n",
    "            2. removes all the original columns in cat_cols\n",
    "            3. dummy columns for each of the categorical columns in cat_cols\n",
    "            4. if dummy_na is True - it also contains dummy columns for the NaN values\n",
    "            5. Use a prefix of the column name with an underscore (_) for separating \n",
    "    '''\n",
    "    for col in  cat_cols:\n",
    "        try:\n",
    "            # for each cat add dummy var, drop original column\n",
    "            df = pd.concat([df.drop(col, axis=1), pd.get_dummies(df[col], prefix=col, prefix_sep='_', drop_first=True, dummy_na=dummy_na)], axis=1)\n",
    "        except:\n",
    "            continue\n",
    "    return df"
   ]
  },
  {
   "cell_type": "code",
   "execution_count": 33,
   "metadata": {},
   "outputs": [],
   "source": [
    "cat_cols = ['Pclass', 'Sex', 'Salutation']"
   ]
  },
  {
   "cell_type": "code",
   "execution_count": 34,
   "metadata": {},
   "outputs": [],
   "source": [
    "df = create_dummy_df(df, cat_cols, False)"
   ]
  },
  {
   "cell_type": "markdown",
   "metadata": {},
   "source": [
    "Drop names"
   ]
  },
  {
   "cell_type": "code",
   "execution_count": 35,
   "metadata": {},
   "outputs": [],
   "source": [
    "df = df.drop([\"Name\"], axis = 1)\n",
    "df= df.drop([\"FareGroup\"], axis =1)\n",
    "df= df.drop([\"AgeGroup\"], axis =1)"
   ]
  },
  {
   "cell_type": "code",
   "execution_count": 36,
   "metadata": {},
   "outputs": [
    {
     "data": {
      "text/html": [
       "<div>\n",
       "<style scoped>\n",
       "    .dataframe tbody tr th:only-of-type {\n",
       "        vertical-align: middle;\n",
       "    }\n",
       "\n",
       "    .dataframe tbody tr th {\n",
       "        vertical-align: top;\n",
       "    }\n",
       "\n",
       "    .dataframe thead th {\n",
       "        text-align: right;\n",
       "    }\n",
       "</style>\n",
       "<table border=\"1\" class=\"dataframe\">\n",
       "  <thead>\n",
       "    <tr style=\"text-align: right;\">\n",
       "      <th></th>\n",
       "      <th>Survived</th>\n",
       "      <th>Age</th>\n",
       "      <th>Siblings/Spouses Aboard</th>\n",
       "      <th>Parents/Children Aboard</th>\n",
       "      <th>Fare</th>\n",
       "      <th>Pclass_2</th>\n",
       "      <th>Pclass_3</th>\n",
       "      <th>Sex_male</th>\n",
       "      <th>Salutation_Master.</th>\n",
       "      <th>Salutation_Miss.</th>\n",
       "      <th>Salutation_Mr.</th>\n",
       "      <th>Salutation_Mrs.</th>\n",
       "      <th>Salutation_Others</th>\n",
       "      <th>Salutation_Rev.</th>\n",
       "    </tr>\n",
       "  </thead>\n",
       "  <tbody>\n",
       "    <tr>\n",
       "      <td>0</td>\n",
       "      <td>0</td>\n",
       "      <td>22.0</td>\n",
       "      <td>1</td>\n",
       "      <td>0</td>\n",
       "      <td>7.2500</td>\n",
       "      <td>0</td>\n",
       "      <td>1</td>\n",
       "      <td>1</td>\n",
       "      <td>0</td>\n",
       "      <td>0</td>\n",
       "      <td>1</td>\n",
       "      <td>0</td>\n",
       "      <td>0</td>\n",
       "      <td>0</td>\n",
       "    </tr>\n",
       "    <tr>\n",
       "      <td>1</td>\n",
       "      <td>1</td>\n",
       "      <td>38.0</td>\n",
       "      <td>1</td>\n",
       "      <td>0</td>\n",
       "      <td>71.2833</td>\n",
       "      <td>0</td>\n",
       "      <td>0</td>\n",
       "      <td>0</td>\n",
       "      <td>0</td>\n",
       "      <td>0</td>\n",
       "      <td>0</td>\n",
       "      <td>1</td>\n",
       "      <td>0</td>\n",
       "      <td>0</td>\n",
       "    </tr>\n",
       "    <tr>\n",
       "      <td>2</td>\n",
       "      <td>1</td>\n",
       "      <td>26.0</td>\n",
       "      <td>0</td>\n",
       "      <td>0</td>\n",
       "      <td>7.9250</td>\n",
       "      <td>0</td>\n",
       "      <td>1</td>\n",
       "      <td>0</td>\n",
       "      <td>0</td>\n",
       "      <td>1</td>\n",
       "      <td>0</td>\n",
       "      <td>0</td>\n",
       "      <td>0</td>\n",
       "      <td>0</td>\n",
       "    </tr>\n",
       "    <tr>\n",
       "      <td>3</td>\n",
       "      <td>1</td>\n",
       "      <td>35.0</td>\n",
       "      <td>1</td>\n",
       "      <td>0</td>\n",
       "      <td>53.1000</td>\n",
       "      <td>0</td>\n",
       "      <td>0</td>\n",
       "      <td>0</td>\n",
       "      <td>0</td>\n",
       "      <td>0</td>\n",
       "      <td>0</td>\n",
       "      <td>1</td>\n",
       "      <td>0</td>\n",
       "      <td>0</td>\n",
       "    </tr>\n",
       "    <tr>\n",
       "      <td>4</td>\n",
       "      <td>0</td>\n",
       "      <td>35.0</td>\n",
       "      <td>0</td>\n",
       "      <td>0</td>\n",
       "      <td>8.0500</td>\n",
       "      <td>0</td>\n",
       "      <td>1</td>\n",
       "      <td>1</td>\n",
       "      <td>0</td>\n",
       "      <td>0</td>\n",
       "      <td>1</td>\n",
       "      <td>0</td>\n",
       "      <td>0</td>\n",
       "      <td>0</td>\n",
       "    </tr>\n",
       "    <tr>\n",
       "      <td>...</td>\n",
       "      <td>...</td>\n",
       "      <td>...</td>\n",
       "      <td>...</td>\n",
       "      <td>...</td>\n",
       "      <td>...</td>\n",
       "      <td>...</td>\n",
       "      <td>...</td>\n",
       "      <td>...</td>\n",
       "      <td>...</td>\n",
       "      <td>...</td>\n",
       "      <td>...</td>\n",
       "      <td>...</td>\n",
       "      <td>...</td>\n",
       "      <td>...</td>\n",
       "    </tr>\n",
       "    <tr>\n",
       "      <td>882</td>\n",
       "      <td>0</td>\n",
       "      <td>27.0</td>\n",
       "      <td>0</td>\n",
       "      <td>0</td>\n",
       "      <td>13.0000</td>\n",
       "      <td>1</td>\n",
       "      <td>0</td>\n",
       "      <td>1</td>\n",
       "      <td>0</td>\n",
       "      <td>0</td>\n",
       "      <td>0</td>\n",
       "      <td>0</td>\n",
       "      <td>0</td>\n",
       "      <td>1</td>\n",
       "    </tr>\n",
       "    <tr>\n",
       "      <td>883</td>\n",
       "      <td>1</td>\n",
       "      <td>19.0</td>\n",
       "      <td>0</td>\n",
       "      <td>0</td>\n",
       "      <td>30.0000</td>\n",
       "      <td>0</td>\n",
       "      <td>0</td>\n",
       "      <td>0</td>\n",
       "      <td>0</td>\n",
       "      <td>1</td>\n",
       "      <td>0</td>\n",
       "      <td>0</td>\n",
       "      <td>0</td>\n",
       "      <td>0</td>\n",
       "    </tr>\n",
       "    <tr>\n",
       "      <td>884</td>\n",
       "      <td>0</td>\n",
       "      <td>7.0</td>\n",
       "      <td>1</td>\n",
       "      <td>2</td>\n",
       "      <td>23.4500</td>\n",
       "      <td>0</td>\n",
       "      <td>1</td>\n",
       "      <td>0</td>\n",
       "      <td>0</td>\n",
       "      <td>1</td>\n",
       "      <td>0</td>\n",
       "      <td>0</td>\n",
       "      <td>0</td>\n",
       "      <td>0</td>\n",
       "    </tr>\n",
       "    <tr>\n",
       "      <td>885</td>\n",
       "      <td>1</td>\n",
       "      <td>26.0</td>\n",
       "      <td>0</td>\n",
       "      <td>0</td>\n",
       "      <td>30.0000</td>\n",
       "      <td>0</td>\n",
       "      <td>0</td>\n",
       "      <td>1</td>\n",
       "      <td>0</td>\n",
       "      <td>0</td>\n",
       "      <td>1</td>\n",
       "      <td>0</td>\n",
       "      <td>0</td>\n",
       "      <td>0</td>\n",
       "    </tr>\n",
       "    <tr>\n",
       "      <td>886</td>\n",
       "      <td>0</td>\n",
       "      <td>32.0</td>\n",
       "      <td>0</td>\n",
       "      <td>0</td>\n",
       "      <td>7.7500</td>\n",
       "      <td>0</td>\n",
       "      <td>1</td>\n",
       "      <td>1</td>\n",
       "      <td>0</td>\n",
       "      <td>0</td>\n",
       "      <td>1</td>\n",
       "      <td>0</td>\n",
       "      <td>0</td>\n",
       "      <td>0</td>\n",
       "    </tr>\n",
       "  </tbody>\n",
       "</table>\n",
       "<p>887 rows × 14 columns</p>\n",
       "</div>"
      ],
      "text/plain": [
       "     Survived   Age  Siblings/Spouses Aboard  Parents/Children Aboard  \\\n",
       "0           0  22.0                        1                        0   \n",
       "1           1  38.0                        1                        0   \n",
       "2           1  26.0                        0                        0   \n",
       "3           1  35.0                        1                        0   \n",
       "4           0  35.0                        0                        0   \n",
       "..        ...   ...                      ...                      ...   \n",
       "882         0  27.0                        0                        0   \n",
       "883         1  19.0                        0                        0   \n",
       "884         0   7.0                        1                        2   \n",
       "885         1  26.0                        0                        0   \n",
       "886         0  32.0                        0                        0   \n",
       "\n",
       "        Fare  Pclass_2  Pclass_3  Sex_male  Salutation_Master.  \\\n",
       "0     7.2500         0         1         1                   0   \n",
       "1    71.2833         0         0         0                   0   \n",
       "2     7.9250         0         1         0                   0   \n",
       "3    53.1000         0         0         0                   0   \n",
       "4     8.0500         0         1         1                   0   \n",
       "..       ...       ...       ...       ...                 ...   \n",
       "882  13.0000         1         0         1                   0   \n",
       "883  30.0000         0         0         0                   0   \n",
       "884  23.4500         0         1         0                   0   \n",
       "885  30.0000         0         0         1                   0   \n",
       "886   7.7500         0         1         1                   0   \n",
       "\n",
       "     Salutation_Miss.  Salutation_Mr.  Salutation_Mrs.  Salutation_Others  \\\n",
       "0                   0               1                0                  0   \n",
       "1                   0               0                1                  0   \n",
       "2                   1               0                0                  0   \n",
       "3                   0               0                1                  0   \n",
       "4                   0               1                0                  0   \n",
       "..                ...             ...              ...                ...   \n",
       "882                 0               0                0                  0   \n",
       "883                 1               0                0                  0   \n",
       "884                 1               0                0                  0   \n",
       "885                 0               1                0                  0   \n",
       "886                 0               1                0                  0   \n",
       "\n",
       "     Salutation_Rev.  \n",
       "0                  0  \n",
       "1                  0  \n",
       "2                  0  \n",
       "3                  0  \n",
       "4                  0  \n",
       "..               ...  \n",
       "882                1  \n",
       "883                0  \n",
       "884                0  \n",
       "885                0  \n",
       "886                0  \n",
       "\n",
       "[887 rows x 14 columns]"
      ]
     },
     "execution_count": 36,
     "metadata": {},
     "output_type": "execute_result"
    }
   ],
   "source": [
    "df.head(1000)"
   ]
  },
  {
   "cell_type": "code",
   "execution_count": 37,
   "metadata": {},
   "outputs": [
    {
     "name": "stdout",
     "output_type": "stream",
     "text": [
      "                         Survived       Age  Siblings/Spouses Aboard  \\\n",
      "Survived                 1.000000 -0.059665                -0.037082   \n",
      "Age                     -0.059665  1.000000                -0.297669   \n",
      "Siblings/Spouses Aboard -0.037082 -0.297669                 1.000000   \n",
      "Parents/Children Aboard  0.080097 -0.193741                 0.414244   \n",
      "Fare                     0.256179  0.112329                 0.158839   \n",
      "Pclass_2                 0.091715  0.014398                -0.057086   \n",
      "Pclass_3                -0.320134 -0.334814                 0.094702   \n",
      "Sex_male                -0.542152  0.091875                -0.113249   \n",
      "Salutation_Master.       0.084577 -0.382306                 0.349309   \n",
      "Salutation_Miss.         0.328792 -0.268908                 0.085440   \n",
      "Salutation_Mr.          -0.547835  0.196475                -0.249202   \n",
      "Salutation_Mrs.          0.338202  0.180689                 0.062597   \n",
      "Salutation_Others        0.057585  0.119560                -0.032543   \n",
      "Salutation_Rev.         -0.065374  0.080077                -0.026812   \n",
      "\n",
      "                         Parents/Children Aboard      Fare  Pclass_2  \\\n",
      "Survived                                0.080097  0.256179  0.091715   \n",
      "Age                                    -0.193741  0.112329  0.014398   \n",
      "Siblings/Spouses Aboard                 0.414244  0.158839 -0.057086   \n",
      "Parents/Children Aboard                 1.000000  0.215470 -0.001826   \n",
      "Fare                                    0.215470  1.000000 -0.119723   \n",
      "Pclass_2                               -0.001826 -0.119723  1.000000   \n",
      "Pclass_3                                0.017760 -0.412445 -0.564502   \n",
      "Sex_male                               -0.244337 -0.181137 -0.063164   \n",
      "Salutation_Master.                      0.267044  0.010473  0.009411   \n",
      "Salutation_Miss.                        0.103063  0.116043 -0.020350   \n",
      "Salutation_Mr.                         -0.332799 -0.182416 -0.086805   \n",
      "Salutation_Mrs.                         0.225185  0.104468  0.120425   \n",
      "Salutation_Others                      -0.046303  0.031863 -0.062395   \n",
      "Salutation_Rev.                        -0.022155 -0.023210  0.161308   \n",
      "\n",
      "                         Pclass_3  Sex_male  Salutation_Master.  \\\n",
      "Survived                -0.320134 -0.542152            0.084577   \n",
      "Age                     -0.334814  0.091875           -0.382306   \n",
      "Siblings/Spouses Aboard  0.094702 -0.113249            0.349309   \n",
      "Parents/Children Aboard  0.017760 -0.244337            0.267044   \n",
      "Fare                    -0.412445 -0.181137            0.010473   \n",
      "Pclass_2                -0.564502 -0.063164            0.009411   \n",
      "Pclass_3                 1.000000  0.134552            0.065929   \n",
      "Sex_male                 0.134552  1.000000            0.160870   \n",
      "Salutation_Master.       0.065929  0.160870            1.000000   \n",
      "Salutation_Miss.         0.008541 -0.688734           -0.110797   \n",
      "Salutation_Mr.           0.152975  0.866983           -0.254514   \n",
      "Salutation_Mrs.         -0.173409 -0.547129           -0.088017   \n",
      "Salutation_Others       -0.134571 -0.007807           -0.026504   \n",
      "Salutation_Rev.         -0.091059  0.061091           -0.017934   \n",
      "\n",
      "                         Salutation_Miss.  Salutation_Mr.  Salutation_Mrs.  \\\n",
      "Survived                         0.328792       -0.547835         0.338202   \n",
      "Age                             -0.268908        0.196475         0.180689   \n",
      "Siblings/Spouses Aboard          0.085440       -0.249202         0.062597   \n",
      "Parents/Children Aboard          0.103063       -0.332799         0.225185   \n",
      "Fare                             0.116043       -0.182416         0.104468   \n",
      "Pclass_2                        -0.020350       -0.086805         0.120425   \n",
      "Pclass_3                         0.008541        0.152975        -0.173409   \n",
      "Sex_male                        -0.688734        0.866983        -0.547129   \n",
      "Salutation_Master.              -0.110797       -0.254514        -0.088017   \n",
      "Salutation_Miss.                 1.000000       -0.597121        -0.206498   \n",
      "Salutation_Mr.                  -0.597121        1.000000        -0.474352   \n",
      "Salutation_Mrs.                 -0.206498       -0.474352         1.000000   \n",
      "Salutation_Others               -0.062181       -0.142836        -0.049396   \n",
      "Salutation_Rev.                 -0.042075       -0.096652        -0.033425   \n",
      "\n",
      "                         Salutation_Others  Salutation_Rev.  \n",
      "Survived                          0.057585        -0.065374  \n",
      "Age                               0.119560         0.080077  \n",
      "Siblings/Spouses Aboard          -0.032543        -0.026812  \n",
      "Parents/Children Aboard          -0.046303        -0.022155  \n",
      "Fare                              0.031863        -0.023210  \n",
      "Pclass_2                         -0.062395         0.161308  \n",
      "Pclass_3                         -0.134571        -0.091059  \n",
      "Sex_male                         -0.007807         0.061091  \n",
      "Salutation_Master.               -0.026504        -0.017934  \n",
      "Salutation_Miss.                 -0.062181        -0.042075  \n",
      "Salutation_Mr.                   -0.142836        -0.096652  \n",
      "Salutation_Mrs.                  -0.049396        -0.033425  \n",
      "Salutation_Others                 1.000000        -0.010065  \n",
      "Salutation_Rev.                  -0.010065         1.000000  \n"
     ]
    }
   ],
   "source": [
    "print(df.corr())"
   ]
  },
  {
   "cell_type": "code",
   "execution_count": 38,
   "metadata": {},
   "outputs": [],
   "source": [
    "y=df['Survived']\n",
    "X=df.drop(['Survived'], axis = 1)"
   ]
  },
  {
   "cell_type": "code",
   "execution_count": 39,
   "metadata": {},
   "outputs": [],
   "source": [
    "#Split into train and test\n",
    "X_train, X_test, y_train, y_test = train_test_split(X, y, test_size = .30, random_state=42)"
   ]
  },
  {
   "cell_type": "code",
   "execution_count": 40,
   "metadata": {},
   "outputs": [],
   "source": [
    "clf = svm.SVC()"
   ]
  },
  {
   "cell_type": "code",
   "execution_count": 41,
   "metadata": {},
   "outputs": [
    {
     "name": "stderr",
     "output_type": "stream",
     "text": [
      "/Users/birgitjohannes/opt/anaconda3/lib/python3.7/site-packages/sklearn/svm/base.py:193: FutureWarning: The default value of gamma will change from 'auto' to 'scale' in version 0.22 to account better for unscaled features. Set gamma explicitly to 'auto' or 'scale' to avoid this warning.\n",
      "  \"avoid this warning.\", FutureWarning)\n"
     ]
    },
    {
     "data": {
      "text/plain": [
       "SVC(C=1.0, cache_size=200, class_weight=None, coef0=0.0,\n",
       "    decision_function_shape='ovr', degree=3, gamma='auto_deprecated',\n",
       "    kernel='rbf', max_iter=-1, probability=False, random_state=None,\n",
       "    shrinking=True, tol=0.001, verbose=False)"
      ]
     },
     "execution_count": 41,
     "metadata": {},
     "output_type": "execute_result"
    }
   ],
   "source": [
    "clf.fit(X_train, y_train)"
   ]
  },
  {
   "cell_type": "code",
   "execution_count": 42,
   "metadata": {},
   "outputs": [],
   "source": [
    "y_prediction_SVR=clf.predict(X_test)"
   ]
  },
  {
   "cell_type": "code",
   "execution_count": 44,
   "metadata": {},
   "outputs": [
    {
     "data": {
      "text/plain": [
       "array([[133,  33],\n",
       "       [ 38,  63]])"
      ]
     },
     "execution_count": 44,
     "metadata": {},
     "output_type": "execute_result"
    }
   ],
   "source": [
    "confusion_matrix(y_test, y_prediction_SVR)"
   ]
  },
  {
   "cell_type": "code",
   "execution_count": 45,
   "metadata": {},
   "outputs": [
    {
     "name": "stdout",
     "output_type": "stream",
     "text": [
      "0.5516661567842177\n"
     ]
    }
   ],
   "source": [
    "\n",
    "average_precision_SVR = average_precision_score(y_test, y_prediction_SVR)\n",
    "print(average_precision_SVR)"
   ]
  },
  {
   "cell_type": "code",
   "execution_count": 46,
   "metadata": {},
   "outputs": [
    {
     "name": "stdout",
     "output_type": "stream",
     "text": [
      "0.6237623762376238\n"
     ]
    }
   ],
   "source": [
    "average_recall_SVR = recall_score(y_test, y_prediction_SVR)\n",
    "print(average_recall_SVR)"
   ]
  },
  {
   "cell_type": "code",
   "execution_count": 47,
   "metadata": {},
   "outputs": [
    {
     "name": "stdout",
     "output_type": "stream",
     "text": [
      "0.6395939086294415\n"
     ]
    }
   ],
   "source": [
    "f1_score_SVR = f1_score(y_test, y_prediction_SVR)\n",
    "print(f1_score_SVR)"
   ]
  },
  {
   "cell_type": "code",
   "execution_count": 54,
   "metadata": {},
   "outputs": [],
   "source": [
    "lm = LogisticRegression(random_state=0, solver='lbfgs', multi_class='ovr')"
   ]
  },
  {
   "cell_type": "code",
   "execution_count": 70,
   "metadata": {},
   "outputs": [],
   "source": [
    "coeff_columns = X_train.columns.tolist()"
   ]
  },
  {
   "cell_type": "code",
   "execution_count": 55,
   "metadata": {},
   "outputs": [
    {
     "name": "stderr",
     "output_type": "stream",
     "text": [
      "/Users/birgitjohannes/opt/anaconda3/lib/python3.7/site-packages/sklearn/linear_model/logistic.py:947: ConvergenceWarning: lbfgs failed to converge. Increase the number of iterations.\n",
      "  \"of iterations.\", ConvergenceWarning)\n"
     ]
    },
    {
     "data": {
      "text/plain": [
       "LogisticRegression(C=1.0, class_weight=None, dual=False, fit_intercept=True,\n",
       "                   intercept_scaling=1, l1_ratio=None, max_iter=100,\n",
       "                   multi_class='ovr', n_jobs=None, penalty='l2', random_state=0,\n",
       "                   solver='lbfgs', tol=0.0001, verbose=0, warm_start=False)"
      ]
     },
     "execution_count": 55,
     "metadata": {},
     "output_type": "execute_result"
    }
   ],
   "source": [
    "lm.fit(X_train, y_train)"
   ]
  },
  {
   "cell_type": "code",
   "execution_count": 56,
   "metadata": {},
   "outputs": [],
   "source": [
    "y_prediction_lin=lm.predict(X_test)"
   ]
  },
  {
   "cell_type": "code",
   "execution_count": 57,
   "metadata": {},
   "outputs": [
    {
     "name": "stdout",
     "output_type": "stream",
     "text": [
      "0.6102940631141766\n"
     ]
    }
   ],
   "source": [
    "average_precision_lin = average_precision_score(y_test, y_prediction_lin)\n",
    "print(average_precision_lin)"
   ]
  },
  {
   "cell_type": "code",
   "execution_count": 58,
   "metadata": {},
   "outputs": [
    {
     "name": "stdout",
     "output_type": "stream",
     "text": [
      "0.6534653465346535\n"
     ]
    }
   ],
   "source": [
    "average_recall_lin = recall_score(y_test, y_prediction_lin)\n",
    "print(average_recall_lin)"
   ]
  },
  {
   "cell_type": "code",
   "execution_count": 59,
   "metadata": {},
   "outputs": [
    {
     "name": "stdout",
     "output_type": "stream",
     "text": [
      "0.6910994764397905\n"
     ]
    }
   ],
   "source": [
    "f1_score_lin = f1_score(y_test, y_prediction_lin)\n",
    "print(f1_score_lin)"
   ]
  },
  {
   "cell_type": "code",
   "execution_count": 60,
   "metadata": {},
   "outputs": [
    {
     "data": {
      "text/plain": [
       "array([[142,  24],\n",
       "       [ 35,  66]])"
      ]
     },
     "execution_count": 60,
     "metadata": {},
     "output_type": "execute_result"
    }
   ],
   "source": [
    "confusion_matrix(y_test, y_prediction_lin)"
   ]
  },
  {
   "cell_type": "code",
   "execution_count": 95,
   "metadata": {},
   "outputs": [],
   "source": [
    "# combine coeff and names"
   ]
  },
  {
   "cell_type": "code",
   "execution_count": 98,
   "metadata": {},
   "outputs": [],
   "source": [
    "clf = RandomForestClassifier(max_depth=2, random_state=0)"
   ]
  },
  {
   "cell_type": "code",
   "execution_count": 99,
   "metadata": {},
   "outputs": [
    {
     "name": "stderr",
     "output_type": "stream",
     "text": [
      "/Users/birgitjohannes/opt/anaconda3/lib/python3.7/site-packages/sklearn/ensemble/forest.py:245: FutureWarning: The default value of n_estimators will change from 10 in version 0.20 to 100 in 0.22.\n",
      "  \"10 in version 0.20 to 100 in 0.22.\", FutureWarning)\n"
     ]
    },
    {
     "data": {
      "text/plain": [
       "RandomForestClassifier(bootstrap=True, class_weight=None, criterion='gini',\n",
       "                       max_depth=2, max_features='auto', max_leaf_nodes=None,\n",
       "                       min_impurity_decrease=0.0, min_impurity_split=None,\n",
       "                       min_samples_leaf=1, min_samples_split=2,\n",
       "                       min_weight_fraction_leaf=0.0, n_estimators=10,\n",
       "                       n_jobs=None, oob_score=False, random_state=0, verbose=0,\n",
       "                       warm_start=False)"
      ]
     },
     "execution_count": 99,
     "metadata": {},
     "output_type": "execute_result"
    }
   ],
   "source": [
    "clf.fit(X_train, y_train)"
   ]
  },
  {
   "cell_type": "code",
   "execution_count": 100,
   "metadata": {},
   "outputs": [],
   "source": [
    "y_prediction_rforrest=clf.predict(X_test)"
   ]
  },
  {
   "cell_type": "code",
   "execution_count": 119,
   "metadata": {},
   "outputs": [
    {
     "data": {
      "text/plain": [
       "array([[142,  24],\n",
       "       [ 43,  58]])"
      ]
     },
     "execution_count": 119,
     "metadata": {},
     "output_type": "execute_result"
    }
   ],
   "source": [
    "confusion_matrix(y_test, y_prediction_rforrest)"
   ]
  },
  {
   "cell_type": "code",
   "execution_count": 120,
   "metadata": {},
   "outputs": [
    {
     "name": "stdout",
     "output_type": "stream",
     "text": [
      "0.5672307707613732\n"
     ]
    }
   ],
   "source": [
    "average_precision_rforrest = average_precision_score(y_test, y_prediction_rforrest)\n",
    "print(average_precision_rforrest)"
   ]
  },
  {
   "cell_type": "code",
   "execution_count": 123,
   "metadata": {},
   "outputs": [
    {
     "name": "stdout",
     "output_type": "stream",
     "text": [
      "0.5742574257425742\n"
     ]
    }
   ],
   "source": [
    "average_recall_rforrest = recall_score(y_test, y_prediction_rforrest)\n",
    "print(average_recall_rforrest)"
   ]
  },
  {
   "cell_type": "code",
   "execution_count": 124,
   "metadata": {},
   "outputs": [
    {
     "name": "stdout",
     "output_type": "stream",
     "text": [
      "0.6338797814207651\n"
     ]
    }
   ],
   "source": [
    "f1_score_rforrest = f1_score(y_test, y_rforrest_prediction)\n",
    "print(f1_score_rforrest)"
   ]
  },
  {
   "cell_type": "markdown",
   "metadata": {},
   "source": [
    "Logistic Regression has the best F1 score. The following coefficions are relevant"
   ]
  },
  {
   "cell_type": "code",
   "execution_count": 104,
   "metadata": {},
   "outputs": [
    {
     "data": {
      "text/html": [
       "<div>\n",
       "<style scoped>\n",
       "    .dataframe tbody tr th:only-of-type {\n",
       "        vertical-align: middle;\n",
       "    }\n",
       "\n",
       "    .dataframe tbody tr th {\n",
       "        vertical-align: top;\n",
       "    }\n",
       "\n",
       "    .dataframe thead th {\n",
       "        text-align: right;\n",
       "    }\n",
       "</style>\n",
       "<table border=\"1\" class=\"dataframe\">\n",
       "  <thead>\n",
       "    <tr style=\"text-align: right;\">\n",
       "      <th></th>\n",
       "      <th>Age</th>\n",
       "      <th>Siblings/Spouses Aboard</th>\n",
       "      <th>Parents/Children Aboard</th>\n",
       "      <th>Fare</th>\n",
       "      <th>Pclass_2</th>\n",
       "      <th>Pclass_3</th>\n",
       "      <th>Sex_male</th>\n",
       "      <th>Salutation_Master.</th>\n",
       "      <th>Salutation_Miss.</th>\n",
       "      <th>Salutation_Mr.</th>\n",
       "      <th>Salutation_Mrs.</th>\n",
       "      <th>Salutation_Others</th>\n",
       "      <th>Salutation_Rev.</th>\n",
       "    </tr>\n",
       "  </thead>\n",
       "  <tbody>\n",
       "    <tr>\n",
       "      <td>0</td>\n",
       "      <td>-0.031394</td>\n",
       "      <td>-0.699913</td>\n",
       "      <td>-0.345862</td>\n",
       "      <td>0.006051</td>\n",
       "      <td>-0.485353</td>\n",
       "      <td>-1.723573</td>\n",
       "      <td>-0.639028</td>\n",
       "      <td>1.507879</td>\n",
       "      <td>0.637334</td>\n",
       "      <td>-1.727393</td>\n",
       "      <td>1.343022</td>\n",
       "      <td>0.17611</td>\n",
       "      <td>-0.390882</td>\n",
       "    </tr>\n",
       "  </tbody>\n",
       "</table>\n",
       "</div>"
      ],
      "text/plain": [
       "        Age  Siblings/Spouses Aboard  Parents/Children Aboard      Fare  \\\n",
       "0 -0.031394                -0.699913                -0.345862  0.006051   \n",
       "\n",
       "   Pclass_2  Pclass_3  Sex_male  Salutation_Master.  Salutation_Miss.  \\\n",
       "0 -0.485353 -1.723573 -0.639028            1.507879          0.637334   \n",
       "\n",
       "   Salutation_Mr.  Salutation_Mrs.  Salutation_Others  Salutation_Rev.  \n",
       "0       -1.727393         1.343022            0.17611        -0.390882  "
      ]
     },
     "execution_count": 104,
     "metadata": {},
     "output_type": "execute_result"
    }
   ],
   "source": [
    "coef = pd.DataFrame(lm.coef_, columns = coeff_columns)\n",
    "coef.head()"
   ]
  },
  {
   "cell_type": "code",
   "execution_count": 105,
   "metadata": {},
   "outputs": [
    {
     "name": "stdout",
     "output_type": "stream",
     "text": [
      "                                0\n",
      "Salutation_Rev.         -0.390882\n",
      "Salutation_Others        0.176110\n",
      "Salutation_Mrs.          1.343022\n",
      "Salutation_Mr.          -1.727393\n",
      "Salutation_Miss.         0.637334\n",
      "Salutation_Master.       1.507879\n",
      "Sex_male                -0.639028\n",
      "Pclass_3                -1.723573\n",
      "Pclass_2                -0.485353\n",
      "Fare                     0.006051\n",
      "Parents/Children Aboard -0.345862\n",
      "Siblings/Spouses Aboard -0.699913\n",
      "Age                     -0.031394\n"
     ]
    }
   ],
   "source": [
    "print(coef.transpose().iloc[::-1])"
   ]
  },
  {
   "cell_type": "code",
   "execution_count": null,
   "metadata": {},
   "outputs": [],
   "source": []
  }
 ],
 "metadata": {
  "kernelspec": {
   "display_name": "Python 3",
   "language": "python",
   "name": "python3"
  },
  "language_info": {
   "codemirror_mode": {
    "name": "ipython",
    "version": 3
   },
   "file_extension": ".py",
   "mimetype": "text/x-python",
   "name": "python",
   "nbconvert_exporter": "python",
   "pygments_lexer": "ipython3",
   "version": "3.7.4"
  }
 },
 "nbformat": 4,
 "nbformat_minor": 2
}
